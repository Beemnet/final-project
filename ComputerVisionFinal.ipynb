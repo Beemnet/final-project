{
  "cells": [
    {
      "cell_type": "markdown",
      "metadata": {
        "id": "9ejTjWYZZB_t"
      },
      "source": [
        "<font color='skyblue'> Group Members: <font>\n",
        "\n",
        "\n",
        "            - Riwa Masaad\n",
        "            - Bemnet Teklu Assefa\n",
        "            - Zeineb Rania Labidi\n",
        "            - Aichen Sun\n",
        "            - Chorten Tsomo Tamang\n",
        "\n",
        "\n"
      ]
    },
    {
      "cell_type": "markdown",
      "metadata": {
        "id": "ovmLylAd42by"
      },
      "source": [
        "## Face Expression Recognition Dataset\n",
        "\n",
        "This dataset contains 35,887 images of faces with different expressions. The images are divided into seven categories:\n",
        "\n",
        "* Angry\n",
        "* Disgust\n",
        "* Fear\n",
        "* Happy\n",
        "* Sad\n",
        "* Surprise\n",
        "* Neutral\n",
        "\n",
        "The dataset is split into a training set and a test set. The training set contains 28,709 images and the test set contains 7,178 images.\n",
        "\n",
        "The images in the dataset are in JPG format and have a resolution of 48x48 pixels.\n",
        "\n",
        "This dataset can be used to train a machine learning model to recognize facial expressions.\n",
        "\n",
        "## Data Structure\n",
        "\n",
        "The dataset contains the following files:\n",
        "\n",
        "* `train`: This folder contains the training images.\n",
        "* `test`: This folder contains the test images.\n",
        "<br><br>\n",
        "\n",
        "---\n",
        "<br>\n",
        "\n",
        "The following code snippet shows how to load an image from the dataset:\n",
        "\n"
      ]
    },
    {
      "cell_type": "code",
      "execution_count": null,
      "metadata": {
        "id": "Bdt4XZ5W4bPQ",
        "outputId": "df1b1962-2558-49e9-fffa-30bc25854227"
      },
      "outputs": [
        {
          "data": {
            "image/png": "[encoded data removed]",
            "text/plain": [
              "<Figure size 640x480 with 1 Axes>"
            ]
          },
          "metadata": {},
          "output_type": "display_data"
        }
      ],
      "source": [
        "# prompt: give example usage (load an image form dataset, display) load image: images/validation/fear/8797.jpg\n",
        "\n",
        "from PIL import Image\n",
        "import matplotlib.pyplot as plt\n",
        "\n",
        "# Load an image from the dataset\n",
        "image_path = 'data/validation/fear/8797.jpg'\n",
        "image = Image.open(image_path)\n",
        "\n",
        "# Display the image\n",
        "plt.imshow(image)\n",
        "plt.show()\n"
      ]
    },
    {
      "cell_type": "markdown",
      "metadata": {
        "id": "8PZR19yw6LMt"
      },
      "source": [
        "## Modeling Strategies\n",
        "\n",
        "\n",
        "### Fine-tune Models (VGG16, InceptionV3, ResNet):\n",
        "\n",
        "Description: Fine-tuning the models for this project involved selectively unfreezing the top 2-15% of layers in pre-trained models (VGG16, InceptionV3, ResNet) and re-training them on the facial expression recognition dataset.\n",
        "\n",
        "Implementation: Replacing the top layers.\n",
        "\n",
        "Benefits: Enhances model performance by adapting to dataset specifics while conserving computational resources.\n",
        "\n",
        "### Model Distillation from Improved Models:\n",
        "\n",
        "Description: Use the predictions of the fine-tuned VGG16, InceptionV3, and ResNet models as teacher models for distillation.\n",
        "\n",
        "Implementation: Train a simpler student model to mimic the predictions of the best model and an ensemble of improved models.\n",
        "\n",
        "Benefits: Creates a more efficient model suitable for deployment while maintaining or improving performance metrics.\n",
        "\n",
        "### Evaluation and Optimization:\n",
        "\n",
        "Description: Evaluate the performance metrics (accuracy, validation loss) of each fine-tuned model and distilled student model.\n"
      ]
    },
    {
      "cell_type": "markdown",
      "metadata": {
        "id": "mywFc9bx6lvH"
      },
      "source": [
        "### Pretrained models to be used for this task\n",
        "\n",
        "#### 1. VGG16\n",
        "VGG16 is a convolutional neural network that was developed by the Visual Geometry Group at the University of Oxford. It is a deep network, with 16  VGG16 has been shown to achieve state-of-the-art results on a variety of image classification tasks.\n",
        "\n",
        "#### 2. ResNet\n",
        "ResNet is a convolutional neural network that was developed by Kaiming He, Xiangyu Zhang, Shaoqing Ren, and Jian Sun. It is a very deep network, with over 100  ResNet has been shown to achieve state-of-the-art results on a variety of image classification tasks.\n",
        "\n",
        "#### 3. Inception\n",
        "Inception is a convolutional neural network that was developed by Google. It is a very deep network, with over 100  Inception has been shown to achieve state-of-the-art results on a variety of image classification tasks.\n"
      ]
    },
    {
      "cell_type": "markdown",
      "metadata": {
        "id": "heYnF6D2YgvH"
      },
      "source": [
        "## Preprocessing steps\n",
        "- Setup MLFlow\n",
        "- Load dataset as train and validation already separated, loading with tensorflow library to automatically load the classes from the subfolders the images are stored in\n",
        "- Shuffle dataset\n",
        "- Normalize the dataset"
      ]
    },
    {
      "cell_type": "code",
      "execution_count": null,
      "metadata": {
        "id": "DSyuM0_LYgvJ"
      },
      "outputs": [],
      "source": [
        "## Importing necessary libraries\n",
        "import mlflow\n",
        "import mlflow.keras\n",
        "import tensorflow as tf\n",
        "from tensorflow.keras.preprocessing import image_dataset_from_directory\n",
        "from tensorflow.keras.preprocessing.image import ImageDataGenerator\n",
        "from tensorflow.keras.applications import VGG16\n",
        "from tensorflow.keras.models import Model, Sequential\n",
        "from tensorflow.keras.layers import Rescaling, Dense, GlobalAveragePooling2D, Flatten, Conv2D, MaxPooling2D\n",
        "from tensorflow.keras.optimizers import Adam\n",
        "from sklearn.metrics import classification_report, confusion_matrix\n",
        "import matplotlib.pyplot as plt\n",
        "import seaborn as sns\n",
        "import numpy as np"
      ]
    },
    {
      "cell_type": "code",
      "execution_count": null,
      "metadata": {
        "id": "gZ07TrMnYgvJ",
        "outputId": "17433d9e-27ad-4c72-bb85-8e2c7d9622e8"
      },
      "outputs": [
        {
          "data": {
            "text/plain": [
              "<Experiment: artifact_location='file:///c:/Users/bemne/OneDrive/Desktop/School/DSA_S3/ComputerVision/final-project/final-project/mlruns/198545416658839622', creation_time=1720888937253, experiment_id='198545416658839622', last_update_time=1720888937253, lifecycle_stage='active', name='Facial-Recognition-Project', tags={}>"
            ]
          },
          "execution_count": 2,
          "metadata": {},
          "output_type": "execute_result"
        }
      ],
      "source": [
        "## Setup MLflow\n",
        "mlflow.set_experiment(\"Facial-Recognition-Project\")"
      ]
    },
    {
      "cell_type": "code",
      "execution_count": null,
      "metadata": {
        "id": "Efn5K6wKYgvL",
        "outputId": "d63bf1ad-3fa2-467f-ef76-9ed418e49fbd"
      },
      "outputs": [
        {
          "name": "stdout",
          "output_type": "stream",
          "text": [
            "Found 28821 files belonging to 7 classes.\n",
            "Found 7066 files belonging to 7 classes.\n"
          ]
        }
      ],
      "source": [
        "# Data loading and preprocessing\n",
        "train_data_dir = 'data/train'\n",
        "val_data_dir = 'data/validation'\n",
        "\n",
        "# Tensorflow pre processing library will load each image and treat it according to its class\n",
        "train_data = image_dataset_from_directory(train_data_dir, image_size=(224, 224), batch_size=32, label_mode='int')\n",
        "val_data = image_dataset_from_directory(val_data_dir, image_size=(224, 224), batch_size=32, label_mode='int')\n",
        "\n",
        "num_classes = len(train_data.class_names)\n",
        "\n",
        "train_dataset_shuffled = train_data.shuffle(buffer_size=len(train_data))\n",
        "val_dataset_shuffled = train_data.shuffle(buffer_size=len(val_data))\n",
        "\n",
        "\n",
        "# Normalize the dataset\n",
        "normalization_layer = Rescaling(1./255)\n",
        "train_data = train_dataset_shuffled.map(lambda x, y: (normalization_layer(x), y))\n",
        "val_data = val_dataset_shuffled.map(lambda x, y: (normalization_layer(x), y))"
      ]
    },
    {
      "cell_type": "markdown",
      "metadata": {
        "id": "U5Y-0aCaYgvM"
      },
      "source": [
        "### Fine-tuning models to select the best performing one\n",
        "We will be using the build_model function below to ensure that the transferred models are treated with the same fine-tuning steps, then choose the best performing out of the 3 for the distillation step afterwards to train our student model on, from scratch.\n",
        "\n",
        "- Note: we are not expecting the models to have good performance as we will be training them on a fraction of the available training data due to resource constraints."
      ]
    },
    {
      "cell_type": "code",
      "execution_count": null,
      "metadata": {
        "id": "jCuv_FA7YgvN"
      },
      "outputs": [],
      "source": [
        "def build_model(base_model, num_classes, unfreeze_percentage=0.15):\n",
        "    # Unfreeze layers based on unfreeze_percentage\n",
        "    if unfreeze_percentage > 0:\n",
        "        num_layers = len(base_model.layers)\n",
        "        unfreeze_stop_index = int(num_layers * (1 - unfreeze_percentage))\n",
        "        for layer in base_model.layers[:unfreeze_stop_index]:\n",
        "            layer.trainable = False\n",
        "        for layer in base_model.layers[unfreeze_stop_index:]:\n",
        "            layer.trainable = True\n",
        "\n",
        "    # Add new top layers for classification\n",
        "    x = base_model.output\n",
        "    x = GlobalAveragePooling2D()(x)\n",
        "    x = Dense(1024, activation='relu')(x)\n",
        "    predictions = Dense(num_classes, activation='softmax')(x)\n",
        "\n",
        "    model = Model(inputs=base_model.input, outputs=predictions)\n",
        "    return model"
      ]
    },
    {
      "cell_type": "code",
      "execution_count": null,
      "metadata": {
        "id": "nGpXCoI7YgvP"
      },
      "outputs": [],
      "source": [
        "def log_experiment(model, model_name, strategy, train_data, val_data, epochs):\n",
        "    with mlflow.start_run(run_name=f\"{model_name}_{strategy}\"):\n",
        "        model.compile(optimizer=Adam(), loss='sparse_categorical_crossentropy', metrics=['accuracy'])\n",
        "\n",
        "        # Take smaller dataset to conserve resources\n",
        "        reduced_train_data = train_data.take(int(len(train_data) * 0.05))\n",
        "        reduced_val_data = val_data.take(int(len(train_data) * 0.05))\n",
        "\n",
        "        history = model.fit(reduced_train_data, validation_data=reduced_val_data, epochs=epochs)\n",
        "\n",
        "        # Evaluate model\n",
        "        val_loss, val_acc = model.evaluate(reduced_val_data)\n",
        "\n",
        "        # Log metrics\n",
        "        mlflow.log_metric(\"val_loss\", val_loss)\n",
        "        mlflow.log_metric(\"val_acc\", val_acc)\n",
        "\n",
        "        # Log model\n",
        "        mlflow.keras.log_model(model, f\"{model_name}_{strategy}\")\n",
        "\n",
        "        # Plot and log training curves\n",
        "        plt.plot(history.history['accuracy'], label='accuracy')\n",
        "        plt.plot(history.history['val_accuracy'], label = 'val_accuracy')\n",
        "        plt.xlabel('Epoch')\n",
        "        plt.ylabel('Accuracy')\n",
        "        plt.ylim([0, 1])\n",
        "        plt.legend(loc='lower right')\n",
        "        plt.savefig(f\"{model_name}_{strategy}_accuracy.png\")\n",
        "        mlflow.log_artifact(f\"{model_name}_{strategy}_accuracy.png\")\n"
      ]
    },
    {
      "cell_type": "markdown",
      "metadata": {
        "id": "Cq7B9WP4YgvR"
      },
      "source": [
        "#### Fine-tuning VGG16 model\n",
        "\n",
        "Using a small unfreeze percentage to train VGG16 to only keep about 2-3 of its layers due to resource limitations and running it on 3 epochs."
      ]
    },
    {
      "cell_type": "code",
      "execution_count": null,
      "metadata": {
        "id": "Jl87yiRuYgvR",
        "outputId": "1309b7bd-634b-4e41-aadc-38f3eb9383c9"
      },
      "outputs": [
        {
          "name": "stdout",
          "output_type": "stream",
          "text": [
            "Epoch 1/3\n",
            "\u001b[1m45/45\u001b[0m \u001b[32m━━━━━━━━━━━━━━━━━━━━\u001b[0m\u001b[37m\u001b[0m \u001b[1m828s\u001b[0m 16s/step - accuracy: 0.1893 - loss: 1.9176 - val_accuracy: 0.2757 - val_loss: 1.7862\n",
            "Epoch 2/3\n",
            "\u001b[1m45/45\u001b[0m \u001b[32m━━━━━━━━━━━━━━━━━━━━\u001b[0m\u001b[37m\u001b[0m \u001b[1m765s\u001b[0m 15s/step - accuracy: 0.2568 - loss: 1.8021 - val_accuracy: 0.2931 - val_loss: 1.7311\n",
            "Epoch 3/3\n",
            "\u001b[1m45/45\u001b[0m \u001b[32m━━━━━━━━━━━━━━━━━━━━\u001b[0m\u001b[37m\u001b[0m \u001b[1m759s\u001b[0m 15s/step - accuracy: 0.2888 - loss: 1.6886 - val_accuracy: 0.3187 - val_loss: 1.6898\n",
            "\u001b[1m45/45\u001b[0m \u001b[32m━━━━━━━━━━━━━━━━━━━━\u001b[0m\u001b[37m\u001b[0m \u001b[1m302s\u001b[0m 7s/step - accuracy: 0.3060 - loss: 1.6792\n"
          ]
        },
        {
          "name": "stderr",
          "output_type": "stream",
          "text": [
            "2024/07/14 00:36:54 WARNING mlflow.keras.save: You are saving a Keras model without specifying model signature.\n"
          ]
        },
        {
          "data": {
            "image/png": "[encoded data removed]",
            "text/plain": [
              "<Figure size 640x480 with 1 Axes>"
            ]
          },
          "metadata": {},
          "output_type": "display_data"
        }
      ],
      "source": [
        "# Fine-tuning VGG16\n",
        "base_vgg = VGG16(weights='imagenet', include_top=False, input_shape=(224, 224, 3))\n",
        "\n",
        "model_vgg_fine_tuning = build_model(base_vgg, num_classes, unfreeze_percentage=0.15)\n",
        "log_experiment(model_vgg_fine_tuning, 'VGG16', 'fine_tuning_first_model', train_data, val_data, 3)\n",
        "\n",
        "# Save the model for later\n",
        "model_vgg_fine_tuning.save('models/model_vgg_fine_tuning.keras')"
      ]
    },
    {
      "cell_type": "markdown",
      "metadata": {
        "id": "T21kNcSVefD-"
      },
      "source": [
        "#### Fine-tuning ResNet50 model\n",
        "\n",
        "Using a very small percentage of layers unfrozen as this model is very large with more than 100 layers, and maintaining 3 epochs for training."
      ]
    },
    {
      "cell_type": "code",
      "execution_count": null,
      "metadata": {
        "id": "cbQCP-UlYgvS"
      },
      "outputs": [],
      "source": [
        "from tensorflow.keras.applications import ResNet50"
      ]
    },
    {
      "cell_type": "code",
      "execution_count": null,
      "metadata": {
        "id": "GD61TyM7YgvS",
        "outputId": "6ab08c1f-9ebe-407b-b910-d87da3b4e67b"
      },
      "outputs": [
        {
          "name": "stdout",
          "output_type": "stream",
          "text": [
            "Epoch 1/3\n",
            "\u001b[1m45/45\u001b[0m \u001b[32m━━━━━━━━━━━━━━━━━━━━\u001b[0m\u001b[37m\u001b[0m \u001b[1m337s\u001b[0m 5s/step - accuracy: 0.1850 - loss: 2.3573 - val_accuracy: 0.1653 - val_loss: 1.9812\n",
            "Epoch 2/3\n",
            "\u001b[1m45/45\u001b[0m \u001b[32m━━━━━━━━━━━━━━━━━━━━\u001b[0m\u001b[37m\u001b[0m \u001b[1m304s\u001b[0m 5s/step - accuracy: 0.2104 - loss: 1.8876 - val_accuracy: 0.2597 - val_loss: 1.8310\n",
            "Epoch 3/3\n",
            "\u001b[1m45/45\u001b[0m \u001b[32m━━━━━━━━━━━━━━━━━━━━\u001b[0m\u001b[37m\u001b[0m \u001b[1m304s\u001b[0m 5s/step - accuracy: 0.2103 - loss: 1.8330 - val_accuracy: 0.2632 - val_loss: 1.8406\n",
            "\u001b[1m45/45\u001b[0m \u001b[32m━━━━━━━━━━━━━━━━━━━━\u001b[0m\u001b[37m\u001b[0m \u001b[1m102s\u001b[0m 2s/step - accuracy: 0.2628 - loss: 1.8302\n"
          ]
        },
        {
          "name": "stderr",
          "output_type": "stream",
          "text": [
            "2024/07/14 00:54:51 WARNING mlflow.keras.save: You are saving a Keras model without specifying model signature.\n"
          ]
        },
        {
          "data": {
            "image/png": "[encoded data removed]",
            "text/plain": [
              "<Figure size 640x480 with 1 Axes>"
            ]
          },
          "metadata": {},
          "output_type": "display_data"
        }
      ],
      "source": [
        "base_resnet = ResNet50(weights='imagenet', include_top=False, input_shape=(224, 224, 3))\n",
        "\n",
        "model_resnet_fine_tuning = build_model(base_resnet, num_classes, unfreeze_percentage=0.03)\n",
        "log_experiment(model_resnet_fine_tuning, 'ResNet50', 'fine_tuning', train_data, val_data, 3)\n",
        "\n",
        "# Save the model for later\n",
        "model_resnet_fine_tuning.save('models/model_resnet_fine_tuning.keras')"
      ]
    },
    {
      "cell_type": "markdown",
      "metadata": {
        "id": "4oCixZN7YgvT"
      },
      "source": [
        "#### Fine-tuning InceoptionV3 model\n",
        "\n",
        "Still using a very small percentage of layers unfrozen as this model is also very large with more than 100 layers, and maintaining 3 epochs for training.\n",
        "\n",
        "Resulted in the best model so far"
      ]
    },
    {
      "cell_type": "code",
      "execution_count": null,
      "metadata": {
        "id": "IWKqezkXYgvT"
      },
      "outputs": [],
      "source": [
        "from tensorflow.keras.applications import InceptionV3"
      ]
    },
    {
      "cell_type": "code",
      "execution_count": null,
      "metadata": {
        "id": "fThXcqnMYgvU",
        "outputId": "57c69ad9-4946-4545-f8f5-e9bc3013d01b"
      },
      "outputs": [
        {
          "name": "stdout",
          "output_type": "stream",
          "text": [
            "Epoch 1/3\n",
            "\u001b[1m45/45\u001b[0m \u001b[32m━━━━━━━━━━━━━━━━━━━━\u001b[0m\u001b[37m\u001b[0m \u001b[1m276s\u001b[0m 4s/step - accuracy: 0.2096 - loss: 2.6710 - val_accuracy: 0.3854 - val_loss: 1.6144\n",
            "Epoch 2/3\n",
            "\u001b[1m45/45\u001b[0m \u001b[32m━━━━━━━━━━━━━━━━━━━━\u001b[0m\u001b[37m\u001b[0m \u001b[1m259s\u001b[0m 4s/step - accuracy: 0.3634 - loss: 1.6104 - val_accuracy: 0.3931 - val_loss: 1.5359\n",
            "Epoch 3/3\n",
            "\u001b[1m45/45\u001b[0m \u001b[32m━━━━━━━━━━━━━━━━━━━━\u001b[0m\u001b[37m\u001b[0m \u001b[1m274s\u001b[0m 4s/step - accuracy: 0.4066 - loss: 1.5629 - val_accuracy: 0.4389 - val_loss: 1.4899\n",
            "\u001b[1m45/45\u001b[0m \u001b[32m━━━━━━━━━━━━━━━━━━━━\u001b[0m\u001b[37m\u001b[0m \u001b[1m74s\u001b[0m 2s/step - accuracy: 0.4384 - loss: 1.4946\n"
          ]
        },
        {
          "name": "stderr",
          "output_type": "stream",
          "text": [
            "2024/07/14 01:10:07 WARNING mlflow.keras.save: You are saving a Keras model without specifying model signature.\n"
          ]
        },
        {
          "data": {
            "image/png": "[encoded data removed]",
            "text/plain": [
              "<Figure size 640x480 with 1 Axes>"
            ]
          },
          "metadata": {},
          "output_type": "display_data"
        }
      ],
      "source": [
        "# Fine-tuning InceptionV3 (GoogLeNet)\n",
        "base_inception = InceptionV3(weights='imagenet', include_top=False, input_shape=(224, 224, 3))\n",
        "\n",
        "model_inception_fine_tuning = build_model(base_inception, num_classes, unfreeze_percentage=0.03)\n",
        "log_experiment(model_inception_fine_tuning, 'InceptionV3', 'fine_tuning', train_data, val_data, 3)\n",
        "\n",
        "# Save the model for later\n",
        "model_inception_fine_tuning.save('models/model_inception_fine_tuning.keras')"
      ]
    },
    {
      "cell_type": "markdown",
      "metadata": {
        "id": "uJLghPATYgvV"
      },
      "source": [
        "### Model Distillation from Improved Models:\n",
        "\n",
        "We will be defining a CNN from scratch with a distillation loss function and set it to learn from\n",
        "\n",
        "  1. The best performing model and\n",
        "  2. An ensemble model of all 3 transferred models\n",
        "\n"
      ]
    },
    {
      "cell_type": "code",
      "execution_count": null,
      "metadata": {
        "id": "5oeCJL0iYgvV"
      },
      "outputs": [],
      "source": [
        "from tensorflow.keras.models import load_model\n",
        "\n",
        "# Load earlier transferred models\n",
        "model_vgg_fine_tuning = load_model('models/model_vgg_fine_tuning.keras')\n",
        "model_resnet_fine_tuning = load_model('models/model_resnet_fine_tuning.keras')\n",
        "model_inception_fine_tuning = load_model('models/model_inception_fine_tuning.keras')\n"
      ]
    },
    {
      "cell_type": "code",
      "execution_count": null,
      "metadata": {
        "id": "j2zhJGM8YgvV",
        "outputId": "a9447ea0-0ea5-46f5-b830-c191f4692602"
      },
      "outputs": [
        {
          "name": "stderr",
          "output_type": "stream",
          "text": [
            "c:\\Users\\bemne\\anaconda3\\envs\\vision\\Lib\\site-packages\\keras\\src\\layers\\convolutional\\base_conv.py:107: UserWarning: Do not pass an `input_shape`/`input_dim` argument to a layer. When using Sequential models, prefer using an `Input(shape)` object as the first layer in the model instead.\n",
            "  super().__init__(activity_regularizer=activity_regularizer, **kwargs)\n"
          ]
        },
        {
          "data": {
            "text/html": [
              "<pre style=\"white-space:pre;overflow-x:auto;line-height:normal;font-family:Menlo,'DejaVu Sans Mono',consolas,'Courier New',monospace\"><span style=\"font-weight: bold\">Model: \"sequential\"</span>\n",
              "</pre>\n"
            ],
            "text/plain": [
              "\u001b[1mModel: \"sequential\"\u001b[0m\n"
            ]
          },
          "metadata": {},
          "output_type": "display_data"
        },
        {
          "data": {
            "text/html": [
              "<pre style=\"white-space:pre;overflow-x:auto;line-height:normal;font-family:Menlo,'DejaVu Sans Mono',consolas,'Courier New',monospace\">┏━━━━━━━━━━━━━━━━━━━━━━━━━━━━━━━━━┳━━━━━━━━━━━━━━━━━━━━━━━━┳━━━━━━━━━━━━━━━┓\n",
              "┃<span style=\"font-weight: bold\"> Layer (type)                    </span>┃<span style=\"font-weight: bold\"> Output Shape           </span>┃<span style=\"font-weight: bold\">       Param # </span>┃\n",
              "┡━━━━━━━━━━━━━━━━━━━━━━━━━━━━━━━━━╇━━━━━━━━━━━━━━━━━━━━━━━━╇━━━━━━━━━━━━━━━┩\n",
              "│ conv2d (<span style=\"color: #0087ff; text-decoration-color: #0087ff\">Conv2D</span>)                 │ (<span style=\"color: #00d7ff; text-decoration-color: #00d7ff\">None</span>, <span style=\"color: #00af00; text-decoration-color: #00af00\">222</span>, <span style=\"color: #00af00; text-decoration-color: #00af00\">222</span>, <span style=\"color: #00af00; text-decoration-color: #00af00\">16</span>)   │           <span style=\"color: #00af00; text-decoration-color: #00af00\">448</span> │\n",
              "├─────────────────────────────────┼────────────────────────┼───────────────┤\n",
              "│ max_pooling2d (<span style=\"color: #0087ff; text-decoration-color: #0087ff\">MaxPooling2D</span>)    │ (<span style=\"color: #00d7ff; text-decoration-color: #00d7ff\">None</span>, <span style=\"color: #00af00; text-decoration-color: #00af00\">111</span>, <span style=\"color: #00af00; text-decoration-color: #00af00\">111</span>, <span style=\"color: #00af00; text-decoration-color: #00af00\">16</span>)   │             <span style=\"color: #00af00; text-decoration-color: #00af00\">0</span> │\n",
              "├─────────────────────────────────┼────────────────────────┼───────────────┤\n",
              "│ flatten (<span style=\"color: #0087ff; text-decoration-color: #0087ff\">Flatten</span>)               │ (<span style=\"color: #00d7ff; text-decoration-color: #00d7ff\">None</span>, <span style=\"color: #00af00; text-decoration-color: #00af00\">197136</span>)         │             <span style=\"color: #00af00; text-decoration-color: #00af00\">0</span> │\n",
              "├─────────────────────────────────┼────────────────────────┼───────────────┤\n",
              "│ dense (<span style=\"color: #0087ff; text-decoration-color: #0087ff\">Dense</span>)                   │ (<span style=\"color: #00d7ff; text-decoration-color: #00d7ff\">None</span>, <span style=\"color: #00af00; text-decoration-color: #00af00\">7</span>)              │     <span style=\"color: #00af00; text-decoration-color: #00af00\">1,379,959</span> │\n",
              "└─────────────────────────────────┴────────────────────────┴───────────────┘\n",
              "</pre>\n"
            ],
            "text/plain": [
              "┏━━━━━━━━━━━━━━━━━━━━━━━━━━━━━━━━━┳━━━━━━━━━━━━━━━━━━━━━━━━┳━━━━━━━━━━━━━━━┓\n",
              "┃\u001b[1m \u001b[0m\u001b[1mLayer (type)                   \u001b[0m\u001b[1m \u001b[0m┃\u001b[1m \u001b[0m\u001b[1mOutput Shape          \u001b[0m\u001b[1m \u001b[0m┃\u001b[1m \u001b[0m\u001b[1m      Param #\u001b[0m\u001b[1m \u001b[0m┃\n",
              "┡━━━━━━━━━━━━━━━━━━━━━━━━━━━━━━━━━╇━━━━━━━━━━━━━━━━━━━━━━━━╇━━━━━━━━━━━━━━━┩\n",
              "│ conv2d (\u001b[38;5;33mConv2D\u001b[0m)                 │ (\u001b[38;5;45mNone\u001b[0m, \u001b[38;5;34m222\u001b[0m, \u001b[38;5;34m222\u001b[0m, \u001b[38;5;34m16\u001b[0m)   │           \u001b[38;5;34m448\u001b[0m │\n",
              "├─────────────────────────────────┼────────────────────────┼───────────────┤\n",
              "│ max_pooling2d (\u001b[38;5;33mMaxPooling2D\u001b[0m)    │ (\u001b[38;5;45mNone\u001b[0m, \u001b[38;5;34m111\u001b[0m, \u001b[38;5;34m111\u001b[0m, \u001b[38;5;34m16\u001b[0m)   │             \u001b[38;5;34m0\u001b[0m │\n",
              "├─────────────────────────────────┼────────────────────────┼───────────────┤\n",
              "│ flatten (\u001b[38;5;33mFlatten\u001b[0m)               │ (\u001b[38;5;45mNone\u001b[0m, \u001b[38;5;34m197136\u001b[0m)         │             \u001b[38;5;34m0\u001b[0m │\n",
              "├─────────────────────────────────┼────────────────────────┼───────────────┤\n",
              "│ dense (\u001b[38;5;33mDense\u001b[0m)                   │ (\u001b[38;5;45mNone\u001b[0m, \u001b[38;5;34m7\u001b[0m)              │     \u001b[38;5;34m1,379,959\u001b[0m │\n",
              "└─────────────────────────────────┴────────────────────────┴───────────────┘\n"
            ]
          },
          "metadata": {},
          "output_type": "display_data"
        },
        {
          "data": {
            "text/html": [
              "<pre style=\"white-space:pre;overflow-x:auto;line-height:normal;font-family:Menlo,'DejaVu Sans Mono',consolas,'Courier New',monospace\"><span style=\"font-weight: bold\"> Total params: </span><span style=\"color: #00af00; text-decoration-color: #00af00\">1,380,407</span> (5.27 MB)\n",
              "</pre>\n"
            ],
            "text/plain": [
              "\u001b[1m Total params: \u001b[0m\u001b[38;5;34m1,380,407\u001b[0m (5.27 MB)\n"
            ]
          },
          "metadata": {},
          "output_type": "display_data"
        },
        {
          "data": {
            "text/html": [
              "<pre style=\"white-space:pre;overflow-x:auto;line-height:normal;font-family:Menlo,'DejaVu Sans Mono',consolas,'Courier New',monospace\"><span style=\"font-weight: bold\"> Trainable params: </span><span style=\"color: #00af00; text-decoration-color: #00af00\">1,380,407</span> (5.27 MB)\n",
              "</pre>\n"
            ],
            "text/plain": [
              "\u001b[1m Trainable params: \u001b[0m\u001b[38;5;34m1,380,407\u001b[0m (5.27 MB)\n"
            ]
          },
          "metadata": {},
          "output_type": "display_data"
        },
        {
          "data": {
            "text/html": [
              "<pre style=\"white-space:pre;overflow-x:auto;line-height:normal;font-family:Menlo,'DejaVu Sans Mono',consolas,'Courier New',monospace\"><span style=\"font-weight: bold\"> Non-trainable params: </span><span style=\"color: #00af00; text-decoration-color: #00af00\">0</span> (0.00 B)\n",
              "</pre>\n"
            ],
            "text/plain": [
              "\u001b[1m Non-trainable params: \u001b[0m\u001b[38;5;34m0\u001b[0m (0.00 B)\n"
            ]
          },
          "metadata": {},
          "output_type": "display_data"
        }
      ],
      "source": [
        "def build_student_model(input_shape, num_classes):\n",
        "    model = Sequential()\n",
        "    model.add(Conv2D(16, (3, 3), activation='relu', input_shape=input_shape))\n",
        "    model.add(MaxPooling2D((2, 2)))\n",
        "    model.add(Flatten())  # Flatten the tensor output before passing to Dense\n",
        "    model.add(Dense(num_classes))  # No softmax activation\n",
        "    return model\n",
        "\n",
        "# Define the student model\n",
        "input_shape = (224, 224, 3)  # Same input shape as the teacher models\n",
        "num_classes = 7  # Number of classes for facial expression recognition\n",
        "student_model = build_student_model(input_shape, num_classes)\n",
        "\n",
        "# Compile the student model\n",
        "student_model.compile(optimizer=tf.keras.optimizers.Adam(),\n",
        "                      loss=tf.keras.losses.SparseCategoricalCrossentropy(from_logits=True),\n",
        "                      metrics=['accuracy'])\n",
        "\n",
        "# Display the student model summary\n",
        "student_model.summary()\n"
      ]
    },
    {
      "cell_type": "code",
      "execution_count": null,
      "metadata": {
        "id": "AAgssaS0YgvW"
      },
      "outputs": [],
      "source": [
        "# Define a distillation loss function\n",
        "\n",
        "def distillation_loss(y_true, y_pred, teacher_preds, alpha=0.1, temperature=3):\n",
        "    # Ensure y_pred and teacher_preds are flattened\n",
        "    y_pred = tf.reshape(y_pred, (-1, tf.shape(y_pred)[-1]))\n",
        "    teacher_preds = tf.reshape(teacher_preds, (-1, tf.shape(teacher_preds)[-1]))\n",
        "\n",
        "    # Compute hard labels loss\n",
        "    hard_labels_loss = tf.keras.losses.sparse_categorical_crossentropy(y_true, y_pred, from_logits=True)\n",
        "\n",
        "    # Compute soft labels loss using Kullback-Leibler divergence\n",
        "    soft_labels_loss = tf.keras.losses.kullback_leibler_divergence(\n",
        "        tf.nn.softmax(tf.cast(teacher_preds, tf.float32) / temperature),\n",
        "        tf.nn.softmax(y_pred / temperature)\n",
        "    )\n",
        "\n",
        "    # Combine hard and soft label losses\n",
        "    combined_loss = alpha * hard_labels_loss + (1 - alpha) * soft_labels_loss\n",
        "\n",
        "    # Reduce mean over batch size\n",
        "    return tf.reduce_mean(combined_loss)\n"
      ]
    },
    {
      "cell_type": "code",
      "execution_count": null,
      "metadata": {
        "id": "HmnhmMriYgvW"
      },
      "outputs": [],
      "source": [
        "from tqdm import tqdm\n",
        "\n",
        "def log_experiment_distillation(student_model, teacher_model, model_name, strategy, train_data, val_data, epochs, alpha=0.1, temperature=3):\n",
        "    with mlflow.start_run(run_name=f\"{model_name}_{strategy}\"):\n",
        "        optimizer = Adam()\n",
        "        student_model.compile(optimizer=optimizer,\n",
        "                                loss=tf.keras.losses.SparseCategoricalCrossentropy(from_logits=True),\n",
        "                                metrics=['accuracy'])\n",
        "\n",
        "        # Reduce dataset size to conserve resources\n",
        "        reduced_train_data = train_data.take(int(len(train_data) * 0.01))\n",
        "        reduced_val_data = val_data.take(int(len(val_data) * 0.01))\n",
        "\n",
        "        # Initialize lists to store metrics for plotting\n",
        "        train_accuracy_history = []\n",
        "        val_accuracy_history = []\n",
        "\n",
        "        for epoch in range(epochs):\n",
        "            print(f'Starting epoch {epoch + 1}')\n",
        "            train_loss = tf.keras.metrics.Mean(name='train_loss')\n",
        "            train_accuracy = tf.keras.metrics.SparseCategoricalAccuracy(name='train_accuracy')\n",
        "            val_loss = tf.keras.metrics.Mean(name='val_loss')\n",
        "            val_accuracy = tf.keras.metrics.SparseCategoricalAccuracy(name='val_accuracy')\n",
        "\n",
        "            # Training step\n",
        "            train_data_tqdm = tqdm(reduced_train_data, desc=f'Training Epoch {epoch + 1}')\n",
        "            for images, labels in train_data_tqdm:\n",
        "                with tf.GradientTape() as tape:\n",
        "                    teacher_preds = teacher_model(images, training=False)\n",
        "                    student_preds = student_model(images, training=True)\n",
        "                    loss = distillation_loss(labels, student_preds, teacher_preds, alpha, temperature)\n",
        "\n",
        "                gradients = tape.gradient(loss, student_model.trainable_variables)\n",
        "                optimizer.apply_gradients(zip(gradients, student_model.trainable_variables))\n",
        "\n",
        "                train_loss(loss)\n",
        "                train_accuracy(labels, student_preds)\n",
        "\n",
        "                train_data_tqdm.set_postfix({'loss': train_loss.result().numpy(), 'accuracy': train_accuracy.result().numpy()})\n",
        "\n",
        "            # Validation step\n",
        "            val_data_tqdm = tqdm(reduced_val_data, desc=f'Validation Epoch {epoch + 1}')\n",
        "            for val_images, val_labels in val_data_tqdm:\n",
        "                student_preds = student_model(val_images, training=False)\n",
        "                v_loss = tf.keras.losses.sparse_categorical_crossentropy(val_labels, student_preds)\n",
        "\n",
        "                val_loss(v_loss)\n",
        "                val_accuracy(val_labels, student_preds)\n",
        "\n",
        "                val_data_tqdm.set_postfix({'val_loss': val_loss.result().numpy(), 'val_accuracy': val_accuracy.result().numpy()})\n",
        "\n",
        "            # Log metrics\n",
        "            mlflow.log_metric('val_loss', val_loss.result().numpy(), step=epoch)\n",
        "            mlflow.log_metric('val_accuracy', val_accuracy.result().numpy(), step=epoch)\n",
        "\n",
        "            # Store metrics for plotting\n",
        "            train_accuracy_history.append(train_accuracy.result().numpy())\n",
        "            val_accuracy_history.append(val_accuracy.result().numpy())\n",
        "\n",
        "            print(f'Epoch {epoch + 1}, Train Loss: {train_loss.result()}, Train Accuracy: {train_accuracy.result()}, Val Loss: {val_loss.result()}, Val Accuracy: {val_accuracy.result()}')\n",
        "\n",
        "        # Final evaluation\n",
        "        val_loss_final, val_acc_final = student_model.evaluate(reduced_val_data)\n",
        "        mlflow.log_metric(\"final_val_loss\", val_loss_final)\n",
        "        mlflow.log_metric(\"final_val_acc\", val_acc_final)\n",
        "\n",
        "        # Log the student model\n",
        "        mlflow.keras.log_model(student_model, f\"{model_name}_{strategy}\")\n",
        "\n",
        "        # Plot and log training curves\n",
        "        plt.plot(range(epochs), train_accuracy_history, label='train_accuracy')\n",
        "        plt.plot(range(epochs), val_accuracy_history, label='val_accuracy')\n",
        "        plt.xlabel('Epoch')\n",
        "        plt.ylabel('Accuracy')\n",
        "        plt.ylim([0, 1])\n",
        "        plt.legend(loc='lower right')\n",
        "        plt.savefig(f\"{model_name}_{strategy}_accuracy.png\")\n",
        "        mlflow.log_artifact(f\"{model_name}_{strategy}_accuracy.png\")\n"
      ]
    },
    {
      "cell_type": "markdown",
      "metadata": {
        "id": "Ze_TShUiYgvX"
      },
      "source": [
        "#### Distillation method 1:\n",
        "Use the teacher model to be the best performing model from the transferred models\n",
        "\n",
        "**Best performing model** (using accuracy metric): InceptionV3"
      ]
    },
    {
      "cell_type": "code",
      "execution_count": null,
      "metadata": {
        "id": "uJRcyxPFYgvX"
      },
      "outputs": [],
      "source": [
        "# Resize and normalize the dataset as we only did normalization before\n",
        "resize_layer = tf.keras.layers.Resizing(224, 224)\n",
        "normalization_layer = tf.keras.layers.Rescaling(1./255)\n",
        "\n",
        "train_data_resized = train_dataset_shuffled.map(lambda x, y: (normalization_layer(resize_layer(x)), y))\n",
        "val_data_resized = val_dataset_shuffled.map(lambda x, y: (normalization_layer(resize_layer(x)), y))\n"
      ]
    },
    {
      "cell_type": "code",
      "execution_count": null,
      "metadata": {
        "id": "IVbDT_v6YgvX",
        "outputId": "39451c74-b16a-4041-f0ff-5c554930f01f"
      },
      "outputs": [
        {
          "name": "stdout",
          "output_type": "stream",
          "text": [
            "Starting epoch 1\n"
          ]
        },
        {
          "name": "stderr",
          "output_type": "stream",
          "text": [
            "Training Epoch 1: 100%|██████████| 18/18 [04:09<00:00, 13.84s/it, loss=9.42, accuracy=0.156]  \n",
            "Validation Epoch 1: 100%|██████████| 18/18 [00:13<00:00,  1.32it/s, val_loss=6.45, val_accuracy=0.156]\n"
          ]
        },
        {
          "name": "stdout",
          "output_type": "stream",
          "text": [
            "Epoch 1, Train Loss: 9.417902946472168, Train Accuracy: 0.15625, Val Loss: 6.450462818145752, Val Accuracy: 0.15625\n",
            "Starting epoch 2\n"
          ]
        },
        {
          "name": "stderr",
          "output_type": "stream",
          "text": [
            "Training Epoch 2: 100%|██████████| 18/18 [05:22<00:00, 17.92s/it, loss=1.73, accuracy=0.142]\n",
            "Validation Epoch 2: 100%|██████████| 18/18 [00:10<00:00,  1.67it/s, val_loss=2.54, val_accuracy=0.0174]\n"
          ]
        },
        {
          "name": "stdout",
          "output_type": "stream",
          "text": [
            "Epoch 2, Train Loss: 1.7340961694717407, Train Accuracy: 0.1423611044883728, Val Loss: 2.537980079650879, Val Accuracy: 0.0173611119389534\n",
            "Starting epoch 3\n"
          ]
        },
        {
          "name": "stderr",
          "output_type": "stream",
          "text": [
            "Training Epoch 3: 100%|██████████| 18/18 [05:08<00:00, 17.11s/it, loss=0.195, accuracy=0.181] \n",
            "Validation Epoch 3: 100%|██████████| 18/18 [00:12<00:00,  1.40it/s, val_loss=6.09, val_accuracy=0.205]\n"
          ]
        },
        {
          "name": "stdout",
          "output_type": "stream",
          "text": [
            "Epoch 3, Train Loss: 0.19498847424983978, Train Accuracy: 0.1805555522441864, Val Loss: 6.093152046203613, Val Accuracy: 0.2048611044883728\n",
            "Starting epoch 4\n"
          ]
        },
        {
          "name": "stderr",
          "output_type": "stream",
          "text": [
            "Training Epoch 4: 100%|██████████| 18/18 [05:05<00:00, 16.96s/it, loss=0.193, accuracy=0.203]\n",
            "Validation Epoch 4: 100%|██████████| 18/18 [00:10<00:00,  1.67it/s, val_loss=5.37, val_accuracy=0.286]\n"
          ]
        },
        {
          "name": "stdout",
          "output_type": "stream",
          "text": [
            "Epoch 4, Train Loss: 0.19307729601860046, Train Accuracy: 0.203125, Val Loss: 5.374803066253662, Val Accuracy: 0.2864583432674408\n",
            "Starting epoch 5\n"
          ]
        },
        {
          "name": "stderr",
          "output_type": "stream",
          "text": [
            "Training Epoch 5: 100%|██████████| 18/18 [05:21<00:00, 17.85s/it, loss=0.193, accuracy=0.259]\n",
            "Validation Epoch 5: 100%|██████████| 18/18 [00:10<00:00,  1.66it/s, val_loss=5.13, val_accuracy=0.245]\n"
          ]
        },
        {
          "name": "stdout",
          "output_type": "stream",
          "text": [
            "Epoch 5, Train Loss: 0.192878857254982, Train Accuracy: 0.2586805522441864, Val Loss: 5.125392436981201, Val Accuracy: 0.2447916716337204\n",
            "\u001b[1m18/18\u001b[0m \u001b[32m━━━━━━━━━━━━━━━━━━━━\u001b[0m\u001b[37m\u001b[0m \u001b[1m14s\u001b[0m 158ms/step - accuracy: 0.2407 - loss: 1.9105\n"
          ]
        },
        {
          "name": "stderr",
          "output_type": "stream",
          "text": [
            "2024/07/14 12:46:06 WARNING mlflow.keras.save: You are saving a Keras model without specifying model signature.\n"
          ]
        },
        {
          "data": {
            "image/png": "[encoded data removed]",
            "text/plain": [
              "<Figure size 640x480 with 1 Axes>"
            ]
          },
          "metadata": {},
          "output_type": "display_data"
        }
      ],
      "source": [
        "teacher_model = model_inception_fine_tuning\n",
        "input_shape = (224, 224, 3)\n",
        "num_classes = 7\n",
        "student_model_with_best = build_student_model(input_shape, num_classes)\n",
        "\n",
        "# Train the student model with distillation and MLflow logging\n",
        "log_experiment_distillation(student_model_with_best, teacher_model, 'StudentModel', 'distillation_with_best', train_data_resized, val_data_resized, epochs=5)"
      ]
    },
    {
      "cell_type": "code",
      "execution_count": null,
      "metadata": {
        "id": "bU5V8BFBYgvY"
      },
      "outputs": [],
      "source": [
        "#  Save thr trained student model\n",
        "student_model_with_best.save('models/student_model_with_best.keras')"
      ]
    },
    {
      "cell_type": "markdown",
      "metadata": {
        "id": "h0Yd6lbSYgvY"
      },
      "source": [
        "#### Distillation method 2:\n",
        "Use an ensemble model of the 3 transferred models to distill the student model"
      ]
    },
    {
      "cell_type": "code",
      "execution_count": null,
      "metadata": {
        "id": "RY2y70wEYgvZ"
      },
      "outputs": [],
      "source": [
        "from tensorflow.keras.layers import Average\n",
        "\n",
        "def build_ensemble_model(models, input_shape):\n",
        "    # Inputs to the ensemble model\n",
        "    inputs = tf.keras.Input(shape=input_shape)\n",
        "\n",
        "    # Get outputs from each model\n",
        "    model_outputs = [model(inputs, training=False)[0] for model in models]  # Extract the tensor from the list\n",
        "    averaged_output = Average()(model_outputs)  # Average the outputs\n",
        "\n",
        "    # Create the ensemble model\n",
        "    ensemble_model = Model(inputs, averaged_output, name='ensemble_model')\n",
        "\n",
        "    return ensemble_model"
      ]
    },
    {
      "cell_type": "code",
      "execution_count": null,
      "metadata": {
        "id": "DMcVQrc4YgvZ"
      },
      "outputs": [],
      "source": [
        "input_shape = (224, 224, 3)\n",
        "\n",
        "vgg16_model = model_vgg_fine_tuning\n",
        "resnet_model = model_resnet_fine_tuning\n",
        "inception_model = model_inception_fine_tuning\n",
        "\n",
        "# Create the ensemble teacher model\n",
        "teacher_models = [vgg16_model, resnet_model, inception_model]\n",
        "ensemble_teacher_model = build_ensemble_model(teacher_models, input_shape)"
      ]
    },
    {
      "cell_type": "code",
      "execution_count": null,
      "metadata": {
        "id": "hjrbq48wYgva"
      },
      "outputs": [],
      "source": [
        "ensemble_teacher_model.save('models/ensemble_teacher_model.keras')"
      ]
    },
    {
      "cell_type": "code",
      "execution_count": null,
      "metadata": {
        "id": "IGYsya95Ygva",
        "outputId": "df7a1430-1993-4428-b4f1-ca1f2f7615ed"
      },
      "outputs": [
        {
          "name": "stdout",
          "output_type": "stream",
          "text": [
            "Starting epoch 1\n"
          ]
        },
        {
          "name": "stderr",
          "output_type": "stream",
          "text": [
            "Training Epoch 1: 100%|██████████| 9/9 [12:20<00:00, 82.33s/it, loss=2.66, accuracy=0.184]  \n",
            "Validation Epoch 1: 100%|██████████| 9/9 [00:10<00:00,  1.12s/it, val_loss=3.3, val_accuracy=0.188] \n"
          ]
        },
        {
          "name": "stdout",
          "output_type": "stream",
          "text": [
            "Epoch 1, Train Loss: 2.6580870151519775, Train Accuracy: 0.1840277761220932, Val Loss: 3.3038392066955566, Val Accuracy: 0.1875\n",
            "Starting epoch 2\n"
          ]
        },
        {
          "name": "stderr",
          "output_type": "stream",
          "text": [
            "Training Epoch 2: 100%|██████████| 9/9 [16:20<00:00, 108.98s/it, loss=0.718, accuracy=0.17] \n",
            "Validation Epoch 2: 100%|██████████| 9/9 [00:09<00:00,  1.05s/it, val_loss=4.87, val_accuracy=0.146]\n"
          ]
        },
        {
          "name": "stdout",
          "output_type": "stream",
          "text": [
            "Epoch 2, Train Loss: 0.7178002595901489, Train Accuracy: 0.1701388955116272, Val Loss: 4.866293430328369, Val Accuracy: 0.1458333283662796\n",
            "Starting epoch 3\n"
          ]
        },
        {
          "name": "stderr",
          "output_type": "stream",
          "text": [
            "Training Epoch 3: 100%|██████████| 9/9 [14:00<00:00, 93.33s/it, loss=0.317, accuracy=0.122]  \n",
            "Validation Epoch 3: 100%|██████████| 9/9 [00:08<00:00,  1.09it/s, val_loss=2.86, val_accuracy=0.181]\n"
          ]
        },
        {
          "name": "stdout",
          "output_type": "stream",
          "text": [
            "Epoch 3, Train Loss: 0.31736576557159424, Train Accuracy: 0.1215277761220932, Val Loss: 2.864285469055176, Val Accuracy: 0.1805555522441864\n",
            "\u001b[1m9/9\u001b[0m \u001b[32m━━━━━━━━━━━━━━━━━━━━\u001b[0m\u001b[37m\u001b[0m \u001b[1m5s\u001b[0m 46ms/step - accuracy: 0.1632 - loss: 2.2676\n"
          ]
        },
        {
          "name": "stderr",
          "output_type": "stream",
          "text": [
            "2024/07/14 13:56:42 WARNING mlflow.keras.save: You are saving a Keras model without specifying model signature.\n"
          ]
        },
        {
          "data": {
            "image/png": "[encoded data removed]",
            "text/plain": [
              "<Figure size 640x480 with 1 Axes>"
            ]
          },
          "metadata": {},
          "output_type": "display_data"
        }
      ],
      "source": [
        "teacher_model = ensemble_teacher_model\n",
        "input_shape = (224, 224, 3)\n",
        "num_classes = 7\n",
        "student_model_with_ensemble = build_student_model(input_shape, num_classes)\n",
        "\n",
        "# Train the student model with distillation and MLflow logging\n",
        "log_experiment_distillation(student_model_with_ensemble, teacher_model, 'StudentModel', 'distillation_with_ensemble', train_data, val_data, epochs=3)"
      ]
    },
    {
      "cell_type": "code",
      "execution_count": null,
      "metadata": {
        "id": "M-2zN8-8Ygva"
      },
      "outputs": [],
      "source": [
        "student_model_with_ensemble.save('models/student_model_with_ensemble.keras')"
      ]
    },
    {
      "cell_type": "markdown",
      "metadata": {
        "id": "Tv8sXN0PYgva"
      },
      "source": [
        "## Evaluation"
      ]
    },
    {
      "cell_type": "code",
      "execution_count": 18,
      "metadata": {
        "id": "qG0mT1A6Ygvb"
      },
      "outputs": [],
      "source": [
        "## Log metrics from MLflow\n",
        "import mlflow\n",
        "import pandas as pd\n",
        "\n",
        "# Set the MLflow tracking URI to localhost:5000\n",
        "mlflow.set_tracking_uri('http://localhost:5000')"
      ]
    },
    {
      "cell_type": "code",
      "execution_count": 19,
      "metadata": {
        "id": "Hnzh57WfYgvb",
        "outputId": "e1ad169e-8d5a-4775-e091-dd9ac80b2f16"
      },
      "outputs": [
        {
          "data": {
            "text/html": [
              "<div>\n",
              "<style scoped>\n",
              "    .dataframe tbody tr th:only-of-type {\n",
              "        vertical-align: middle;\n",
              "    }\n",
              "\n",
              "    .dataframe tbody tr th {\n",
              "        vertical-align: top;\n",
              "    }\n",
              "\n",
              "    .dataframe thead th {\n",
              "        text-align: right;\n",
              "    }\n",
              "</style>\n",
              "<table border=\"1\" class=\"dataframe\">\n",
              "  <thead>\n",
              "    <tr style=\"text-align: right;\">\n",
              "      <th></th>\n",
              "      <th>run_id</th>\n",
              "      <th>run_name</th>\n",
              "      <th>final_val_loss</th>\n",
              "      <th>final_val_accuracy</th>\n",
              "      <th>source</th>\n",
              "    </tr>\n",
              "  </thead>\n",
              "  <tbody>\n",
              "    <tr>\n",
              "      <th>0</th>\n",
              "      <td>ae6bebf64b924e03b62d6a3cc5b70ee6</td>\n",
              "      <td>StudentModel_distillation_with_ensemble</td>\n",
              "      <td>2.282163</td>\n",
              "      <td>0.163194</td>\n",
              "      <td>student</td>\n",
              "    </tr>\n",
              "    <tr>\n",
              "      <th>2</th>\n",
              "      <td>7f6ef62b692643df968b33f669a1cbd5</td>\n",
              "      <td>StudentModel_distillation_with_best</td>\n",
              "      <td>1.911695</td>\n",
              "      <td>0.239583</td>\n",
              "      <td>student</td>\n",
              "    </tr>\n",
              "    <tr>\n",
              "      <th>5</th>\n",
              "      <td>cfd05b57d89041e995b637cb4062f106</td>\n",
              "      <td>InceptionV3_fine_tuning</td>\n",
              "      <td>1.497397</td>\n",
              "      <td>0.430556</td>\n",
              "      <td>transferred</td>\n",
              "    </tr>\n",
              "    <tr>\n",
              "      <th>7</th>\n",
              "      <td>bbe84ee8b86d44ce902697d2eabb3b40</td>\n",
              "      <td>ResNet50_fine_tuning</td>\n",
              "      <td>1.835376</td>\n",
              "      <td>0.251389</td>\n",
              "      <td>transferred</td>\n",
              "    </tr>\n",
              "    <tr>\n",
              "      <th>9</th>\n",
              "      <td>6d7d8524693347379a9431ff080fb6ab</td>\n",
              "      <td>VGG16_fine_tuning_first_model</td>\n",
              "      <td>1.683449</td>\n",
              "      <td>0.315278</td>\n",
              "      <td>transferred</td>\n",
              "    </tr>\n",
              "  </tbody>\n",
              "</table>\n",
              "</div>"
            ],
            "text/plain": [
              "                             run_id                                 run_name  \\\n",
              "0  ae6bebf64b924e03b62d6a3cc5b70ee6  StudentModel_distillation_with_ensemble   \n",
              "2  7f6ef62b692643df968b33f669a1cbd5      StudentModel_distillation_with_best   \n",
              "5  cfd05b57d89041e995b637cb4062f106                  InceptionV3_fine_tuning   \n",
              "7  bbe84ee8b86d44ce902697d2eabb3b40                     ResNet50_fine_tuning   \n",
              "9  6d7d8524693347379a9431ff080fb6ab            VGG16_fine_tuning_first_model   \n",
              "\n",
              "   final_val_loss  final_val_accuracy       source  \n",
              "0        2.282163            0.163194      student  \n",
              "2        1.911695            0.239583      student  \n",
              "5        1.497397            0.430556  transferred  \n",
              "7        1.835376            0.251389  transferred  \n",
              "9        1.683449            0.315278  transferred  "
            ]
          },
          "execution_count": 19,
          "metadata": {},
          "output_type": "execute_result"
        }
      ],
      "source": [
        "\n",
        "# Search for runs and fetch metrics\n",
        "experiment_name = 'Facial-Recognition-Project'  # Replace with your experiment name\n",
        "experiment = mlflow.get_experiment_by_name(experiment_name)\n",
        "experiment_id = experiment.experiment_id\n",
        "runs = mlflow.search_runs(experiment_ids=[experiment_id])\n",
        "\n",
        "# Initialize DataFrame to store metrics\n",
        "metrics_list = []\n",
        "\n",
        "# Function to fetch metric from a run\n",
        "def get_metric(metrics, metric_name, default=None):\n",
        "    return metrics.get(metric_name, default)\n",
        "\n",
        "# Iterate over runs and fetch metrics\n",
        "for idx, run in runs.iterrows():\n",
        "    run_id = run['run_id']\n",
        "    run_name = run['tags.mlflow.runName']  # Fetch the run name\n",
        "    metrics = run.to_dict()\n",
        "\n",
        "    # Fetch all four metrics (logging was not consistent in student and transferred models)\n",
        "    final_val_loss = get_metric(metrics, 'metrics.final_val_loss')\n",
        "    final_val_accuracy = get_metric(metrics, 'metrics.final_val_acc')\n",
        "    val_loss = get_metric(metrics, 'metrics.val_loss')\n",
        "    val_accuracy = get_metric(metrics, 'metrics.val_acc')\n",
        "\n",
        "    # Append appropriate metrics based on availability\n",
        "    if final_val_loss is not None and final_val_accuracy is not None:\n",
        "        metrics_list.append({\n",
        "            'run_id': run_id,\n",
        "            'run_name': run_name,\n",
        "            'final_val_loss': final_val_loss,\n",
        "            'final_val_accuracy': final_val_accuracy,\n",
        "            'source': 'student'\n",
        "        })\n",
        "    if val_loss is not None and val_accuracy is not None:\n",
        "        metrics_list.append({\n",
        "            'run_id': run_id,\n",
        "            'run_name': run_name,\n",
        "            'final_val_loss': val_loss,\n",
        "            'final_val_accuracy': val_accuracy,\n",
        "            'source': 'transferred'\n",
        "        })\n",
        "\n",
        "# Convert the list of dictionaries to a DataFrame\n",
        "metrics_df = pd.DataFrame(metrics_list).dropna()\n",
        "metrics_df"
      ]
    },
    {
      "cell_type": "code",
      "execution_count": 20,
      "metadata": {},
      "outputs": [
        {
          "data": {
            "text/html": [
              "<div>\n",
              "<style scoped>\n",
              "    .dataframe tbody tr th:only-of-type {\n",
              "        vertical-align: middle;\n",
              "    }\n",
              "\n",
              "    .dataframe tbody tr th {\n",
              "        vertical-align: top;\n",
              "    }\n",
              "\n",
              "    .dataframe thead th {\n",
              "        text-align: right;\n",
              "    }\n",
              "</style>\n",
              "<table border=\"1\" class=\"dataframe\">\n",
              "  <thead>\n",
              "    <tr style=\"text-align: right;\">\n",
              "      <th></th>\n",
              "      <th>run_id</th>\n",
              "      <th>run_name</th>\n",
              "      <th>final_val_loss</th>\n",
              "      <th>final_val_accuracy</th>\n",
              "      <th>source</th>\n",
              "    </tr>\n",
              "  </thead>\n",
              "  <tbody>\n",
              "    <tr>\n",
              "      <th>0</th>\n",
              "      <td>ae6bebf64b924e03b62d6a3cc5b70ee6</td>\n",
              "      <td>student_ensemble</td>\n",
              "      <td>2.282163</td>\n",
              "      <td>0.163194</td>\n",
              "      <td>student</td>\n",
              "    </tr>\n",
              "    <tr>\n",
              "      <th>2</th>\n",
              "      <td>7f6ef62b692643df968b33f669a1cbd5</td>\n",
              "      <td>student_best</td>\n",
              "      <td>1.911695</td>\n",
              "      <td>0.239583</td>\n",
              "      <td>student</td>\n",
              "    </tr>\n",
              "    <tr>\n",
              "      <th>5</th>\n",
              "      <td>cfd05b57d89041e995b637cb4062f106</td>\n",
              "      <td>inceptionV3</td>\n",
              "      <td>1.497397</td>\n",
              "      <td>0.430556</td>\n",
              "      <td>transferred</td>\n",
              "    </tr>\n",
              "    <tr>\n",
              "      <th>7</th>\n",
              "      <td>bbe84ee8b86d44ce902697d2eabb3b40</td>\n",
              "      <td>resnet50</td>\n",
              "      <td>1.835376</td>\n",
              "      <td>0.251389</td>\n",
              "      <td>transferred</td>\n",
              "    </tr>\n",
              "    <tr>\n",
              "      <th>9</th>\n",
              "      <td>6d7d8524693347379a9431ff080fb6ab</td>\n",
              "      <td>vgg16</td>\n",
              "      <td>1.683449</td>\n",
              "      <td>0.315278</td>\n",
              "      <td>transferred</td>\n",
              "    </tr>\n",
              "  </tbody>\n",
              "</table>\n",
              "</div>"
            ],
            "text/plain": [
              "                             run_id          run_name  final_val_loss  \\\n",
              "0  ae6bebf64b924e03b62d6a3cc5b70ee6  student_ensemble        2.282163   \n",
              "2  7f6ef62b692643df968b33f669a1cbd5      student_best        1.911695   \n",
              "5  cfd05b57d89041e995b637cb4062f106       inceptionV3        1.497397   \n",
              "7  bbe84ee8b86d44ce902697d2eabb3b40          resnet50        1.835376   \n",
              "9  6d7d8524693347379a9431ff080fb6ab             vgg16        1.683449   \n",
              "\n",
              "   final_val_accuracy       source  \n",
              "0            0.163194      student  \n",
              "2            0.239583      student  \n",
              "5            0.430556  transferred  \n",
              "7            0.251389  transferred  \n",
              "9            0.315278  transferred  "
            ]
          },
          "execution_count": 20,
          "metadata": {},
          "output_type": "execute_result"
        }
      ],
      "source": [
        "# Mapping for run names for easier display\n",
        "run_name_mapping = {\n",
        "    'StudentModel_distillation_with_ensemble': 'student_ensemble',\n",
        "    'StudentModel_distillation_with_best': 'student_best',\n",
        "    'InceptionV3_fine_tuning': 'inceptionV3',\n",
        "    'ResNet50_fine_tuning': 'resnet50',\n",
        "    'VGG16_fine_tuning_first_model': 'vgg16'\n",
        "}\n",
        "\n",
        "# Rename run_name column based on the mapping\n",
        "metrics_df['run_name'] = metrics_df['run_name'].map(run_name_mapping)\n",
        "metrics_df\n"
      ]
    },
    {
      "cell_type": "code",
      "execution_count": 25,
      "metadata": {},
      "outputs": [
        {
          "data": {
            "image/png": "[encoded data removed]",
            "text/plain": [
              "<Figure size 1400x700 with 2 Axes>"
            ]
          },
          "metadata": {},
          "output_type": "display_data"
        }
      ],
      "source": [
        "import matplotlib.pyplot as plt\n",
        "\n",
        "# Plot the metrics\n",
        "fig, ax = plt.subplots(1, 2, figsize=(14, 7))\n",
        "\n",
        "# Plot Validation Loss\n",
        "for source in metrics_df['source'].unique():\n",
        "    subset = metrics_df[metrics_df['source'] == source]\n",
        "    ax[1].scatter(subset['run_name'], subset['final_val_loss'], label=source, s=100)\n",
        "ax[1].set_title('Final Validation Loss')\n",
        "ax[1].set_xlabel('Run Name')\n",
        "ax[1].set_ylabel('Loss')\n",
        "ax[1].legend()\n",
        "ax[1].grid(True)\n",
        "ax[1].tick_params(axis='x')\n",
        "\n",
        "# Plot Validation Accuracy\n",
        "for source in metrics_df['source'].unique():\n",
        "    subset = metrics_df[metrics_df['source'] == source]\n",
        "    ax[0].scatter(subset['run_name'], subset['final_val_accuracy'], label=source, s=100)\n",
        "ax[0].set_title('Final Validation Accuracy')\n",
        "ax[0].set_xlabel('Run Name')\n",
        "ax[0].set_ylabel('Accuracy')\n",
        "ax[0].legend()\n",
        "ax[0].grid(True)\n",
        "ax[0].tick_params(axis='x')\n",
        "\n",
        "plt.tight_layout()\n",
        "plt.show()"
      ]
    },
    {
      "cell_type": "markdown",
      "metadata": {
        "id": "iV8BDLoOYgvb"
      },
      "source": [
        "<hr>"
      ]
    },
    {
      "cell_type": "markdown",
      "metadata": {
        "id": "zaTqcVXYYgvb"
      },
      "source": [
        "### Analysis\n",
        "#### Transferred Models:\n",
        "\n",
        "InceptionV3: The best performing transferred model with a validation loss of 1.497397 and accuracy of 0.430556.<br>\n",
        "ResNet50: Achieved a validation loss of 1.835376 and accuracy of 0.251389.<br>\n",
        "VGG16: Achieved a validation loss of 1.683449 and accuracy of 0.315278.<br>\n",
        "\n",
        "#### Student Models (Distillation):\n",
        "\n",
        "Distillation with Ensemble: Resulted in a validation loss of 2.282163 and accuracy of 0.163194. <br>\n",
        "Distillation with Best Model (InceptionV3): Resulted in a validation loss of 1.911695 and accuracy of 0.239583. <br>"
      ]
    },
    {
      "cell_type": "markdown",
      "metadata": {
        "id": "5pG9HAGvYgvc"
      },
      "source": [
        "<hr>"
      ]
    },
    {
      "cell_type": "markdown",
      "metadata": {
        "id": "Fswx8wmAYgvc"
      },
      "source": [
        "### Project Choices and Justifications\n",
        "\n",
        "1. Model Distillation:\n",
        "\n",
        "Model distillation was chosen to explore its effectiveness in training smaller models (student models) using the knowledge distilled from larger, pretrained models (teacher models). This was particularly relevant given the constraints of using an extremely small dataset.\n",
        "\n",
        "**Distillation with the Best Transferred Model**:<br>\n",
        "*Reason*: InceptionV3 was chosen as the teacher model for distillation because it demonstrated the best performance among the transferred models. The goal was to see if the superior knowledge of InceptionV3 could help the student model achieve better performance despite the small dataset size.\n",
        "\n",
        "**Distillation with an Ensemble**:<br>\n",
        "*Reason*: An ensemble of transferred models was used to distill knowledge into a student model to investigate if combining the strengths of multiple models could lead to a better generalized student model. The hypothesis was that the ensemble could provide a more robust and comprehensive set of features for the student model to learn from.\n",
        "\n",
        "2. Training on Small Datasets:<br>\n",
        "*Reason*: The project aimed to explore different training methodologies while conserving computational resources. Given the extremely small dataset, it was understood that achieving high performance was unlikely. The primary objective was to learn and evaluate various model training techniques.\n",
        "\n",
        "3. Model Fine-Tuning:\n",
        "\n",
        "**Transferred Models**: Pretrained models (InceptionV3, ResNet50, VGG16) were fine-tuned on the small dataset to leverage their pretrained weights and features. Fine-tuning was expected to give these models a head start by adapting the already learned representations to the new dataset.\n",
        "\n",
        "4. Performance Expectations:<br>\n",
        "*Reason*: Due to the small dataset size, the models were expected to perform poorly. This was accepted as a part of the project’s learning goals, focusing more on the process and methodologies rather than the absolute performance metrics."
      ]
    },
    {
      "cell_type": "markdown",
      "metadata": {
        "id": "xH2SLno-Ygvc"
      },
      "source": [
        "<hr>"
      ]
    },
    {
      "cell_type": "markdown",
      "metadata": {
        "id": "XgpOZ2E2Ygvd"
      },
      "source": [
        "## Conclusion\n",
        "The project provided valuable insights into different model training approaches under constrained resources. While the performance metrics were understandably low due to the small dataset, the experiments helped in understanding the trade-offs and potential benefits of model distillation, fine-tuning of transferred models, and the use of ensembles. This knowledge can be applied to future projects with more substantial datasets to achieve better performance."
      ]
    },
    {
      "cell_type": "markdown",
      "metadata": {
        "id": "RrZzK0VcYgvd"
      },
      "source": [
        "<hr>"
      ]
    },
    {
      "cell_type": "markdown",
      "metadata": {
        "id": "pDtdkrCOYgvd"
      },
      "source": [
        "## Bibliography\n"
      ]
    },
    {
      "cell_type": "markdown",
      "metadata": {
        "id": "_3F0WVHLYgvd"
      },
      "source": [
        "1. Keras Example on Knowledge Distillation:\n",
        "\n",
        "*Title*: “Knowledge Distillation in Keras: A Practical Guide with Examples”<br>\n",
        "*Link*: https://keras.io/examples/vision/knowledge_distillation/\n",
        "\n",
        "2. Analytics Vidhya Article on Knowledge Distillation:\n",
        "\n",
        "*Title*: “Knowledge Distillation: Theory and End-to-End Case Study”<br>\n",
        "*Link*: https://www.analyticsvidhya.com/blog/2022/01/knowledge-distillation-theory-and-end-to-end-case-study/\n",
        "\n",
        "3. Medium article on Ensemble models:\n",
        "\n",
        "*Title*: “Ensemble models: Boosting model performance through collaborative learning”<br>\n",
        "*Link*: https://medium.com/predict/ensemble-models-boosting-model-performance-through-collaborative-learning-13bbcd6aaeb7\n",
        "\n",
        "4. Kaggle notebook on knowledge distillation:\n",
        "\n",
        "*Title*: “Knowledge Distillation”<br>\n",
        "*Link*: https://www.kaggle.com/code/ritvik1909/knowledge-distillation\n"
      ]
    },
    {
      "cell_type": "markdown",
      "metadata": {
        "id": "HJ6ZpIQbYgvd"
      },
      "source": []
    }
  ],
  "metadata": {
    "colab": {
      "provenance": [],
      "toc_visible": true
    },
    "kernelspec": {
      "display_name": "Python 3",
      "name": "python3"
    },
    "language_info": {
      "codemirror_mode": {
        "name": "ipython",
        "version": 3
      },
      "file_extension": ".py",
      "mimetype": "text/x-python",
      "name": "python",
      "nbconvert_exporter": "python",
      "pygments_lexer": "ipython3",
      "version": "3.12.3"
    }
  },
  "nbformat": 4,
  "nbformat_minor": 0
}
